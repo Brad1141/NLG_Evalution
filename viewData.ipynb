{
 "cells": [
  {
   "cell_type": "code",
   "execution_count": 18,
   "metadata": {},
   "outputs": [],
   "source": [
    "import tensorflow as tf\n",
    "import tensorflow_datasets as tfds\n",
    "import tensorflow_hub as hub\n",
    "import tensorflow_text as text\n",
    "import numpy as np\n",
    "\n",
    "import seaborn as sns\n",
    "from sklearn.metrics import pairwise"
   ]
  },
  {
   "cell_type": "code",
   "execution_count": 19,
   "metadata": {},
   "outputs": [],
   "source": [
    "ds = tfds.load('multi_news', split='train', with_info=True)\n",
    "\n",
    "#use index to get specific document\n",
    "index = 20\n",
    "count = 0\n",
    "with tf.Graph().as_default():\n",
    "    numpy_imgs = next(iter(ds))\n",
    "    # numpy_imgs = tfds.as_numpy(ds)"
   ]
  },
  {
   "cell_type": "code",
   "execution_count": 20,
   "metadata": {},
   "outputs": [],
   "source": [
    "count = 0\n",
    "document = []\n",
    "summary = []\n",
    "for x in numpy_imgs:\n",
    "    count += 1\n",
    "    if count == index:\n",
    "        # tf.print(x[\"document\"])\n",
    "        # print(\"\\n\")\n",
    "        # print(\"\\n\")\n",
    "        # print(\"SUMMARY\")\n",
    "        # tf.print(x[\"summary\"])\n",
    "\n",
    "        document = x[\"document\"]\n",
    "        summary = x[\"summary\"]\n",
    "        break"
   ]
  },
  {
   "cell_type": "code",
   "execution_count": 21,
   "metadata": {},
   "outputs": [
    {
     "name": "stdout",
     "output_type": "stream",
     "text": [
      "['– Umberto Eco started working on a novel that set the world\\'s imagination on fire \"prodded by a seminal idea: I felt like poisoning a monk.\" The Italian author and academic who intrigued, puzzled, and delighted readers worldwide with his best-selling historical novel The Name of the Rose died at home in Milan on Friday evening after a battle with cancer, a family member tells the AP. He was 84. Author of a wide range of books, Eco was fascinated with the obscure and the mundane, and his books were both engaging narratives and philosophical and intellectual exercises. The Name of the Rose transformed him from an academic to international celebrity, especially after the medieval thriller set in a monastery was made into a film starring Sean Connery in 1986. His second novel, 1988\\'s Foucault\\'s Pendulum, a byzantine tale of plotting publishers and secret sects, was successful, too—though it was so complicated that an annotated guide accompanied it to help the reader follow the plot. Eco—whose most recent novel, Numero Zero, came out last year and recalled a \\'90s political scandal that helped lead to the rise of Silvio Berlusconi—shrugged off critics who found him \"too erudite and philosophical, too difficult,\" telling the Guardian in a 2011 interview that he wrote \"for masochists.\" \"It\\'s only publishers and some journalists who believe that people want simple things,\" he said. \"People are tired of simple things. They want to be challenged.\" (The death of Harper Lee was also announced on Friday.)']\n"
     ]
    }
   ],
   "source": [
    "document = bytes(document.numpy())\n",
    "document = [document.decode(\"utf-8\")]\n",
    "\n",
    "summary = bytes(summary.numpy())\n",
    "summary = [summary.decode(\"utf-8\")]\n",
    "print(summary)"
   ]
  },
  {
   "cell_type": "code",
   "execution_count": null,
   "metadata": {},
   "outputs": [],
   "source": [
    "# stuff to do\n",
    "# get vocabulary\n",
    "# display output in a visual way\n",
    "#lean word2vec\n",
    "\n",
    "preprocess = hub.load('https://tfhub.dev/tensorflow/bert_en_uncased_preprocess/3')\n",
    "bert = hub.load('https://tfhub.dev/google/experts/bert/wiki_books/2')\n",
    "\n",
    "sentences = [\n",
    "  \"Here We Go Then, You And I is a 1999 album by Norwegian pop artist Morten Abel. It was Abel's second CD as a solo artist.\",\n",
    "  \"The album went straight to number one on the Norwegian album chart, and sold to double platinum.\",\n",
    "  \"Among the singles released from the album were the songs \\\"Be My Lover\\\" and \\\"Hard To Stay Awake\\\".\",\n",
    "  \"Riccardo Zegna is an Italian jazz musician.\",\n",
    "  \"Rajko Maksimović is a composer, writer, and music pedagogue.\",\n",
    "  \"One of the most significant Serbian composers of our time, Maksimović has been and remains active in creating works for different ensembles.\",\n",
    "  \"Ceylon spinach is a common name for several plants and may refer to: Basella alba Talinum fruticosum\",\n",
    "  \"A solar eclipse occurs when the Moon passes between Earth and the Sun, thereby totally or partly obscuring the image of the Sun for a viewer on Earth.\",\n",
    "  \"A partial solar eclipse occurs in the polar regions of the Earth when the center of the Moon's shadow misses the Earth.\",\n",
    "]\n",
    "\n",
    "wordArray = []\n",
    "\n",
    "for i in sentences:\n",
    "  words = i.split()\n",
    "  for w in words:\n",
    "    w = w.replace(\",\", \"\")\n",
    "    w = w.replace(\".\", \"\")\n",
    "    wordArray.append(w)\n",
    "\n",
    "print(\"word array\")\n",
    "print(wordArray)\n",
    "\n",
    "bert_inputs = preprocess(sentences)\n",
    "bert_outputs = bert(bert_inputs)\n",
    "pooled_output = bert_outputs['pooled_output']\n",
    "sequence_output = bert_outputs['sequence_output']\n",
    "\n",
    "print('\\nPooled output:')\n",
    "print(pooled_output)\n",
    "print('\\nSequence output:')\n",
    "print(sequence_output)\n"
   ]
  },
  {
   "cell_type": "code",
   "execution_count": null,
   "metadata": {},
   "outputs": [],
   "source": [
    "def plot_similarity(features, labels):\n",
    "  \"\"\"Plot a similarity matrix of the embeddings.\"\"\"\n",
    "  cos_sim = pairwise.cosine_similarity(features)\n",
    "  sns.set(font_scale=1.2)\n",
    "  cbar_kws=dict(use_gridspec=False, location=\"left\")\n",
    "  g = sns.heatmap(\n",
    "      cos_sim, xticklabels=labels, yticklabels=labels,\n",
    "      vmin=0, vmax=1, cmap=\"Blues\", cbar_kws=cbar_kws)\n",
    "  g.tick_params(labelright=True, labelleft=False)\n",
    "  g.set_yticklabels(labels, rotation=0)\n",
    "  g.set_title(\"Semantic Textual Similarity\")\n",
    "\n",
    "plot_similarity(bert_outputs[\"pooled_output\"], wordArray)"
   ]
  },
  {
   "cell_type": "code",
   "execution_count": null,
   "metadata": {},
   "outputs": [],
   "source": []
  }
 ],
 "metadata": {
  "interpreter": {
   "hash": "c931ba401747e1100110d99c7b2e1195adf3961a7e00160e720e39c4d164b397"
  },
  "kernelspec": {
   "display_name": "Python 3.8.5 64-bit ('base': conda)",
   "name": "python3"
  },
  "language_info": {
   "codemirror_mode": {
    "name": "ipython",
    "version": 3
   },
   "file_extension": ".py",
   "mimetype": "text/x-python",
   "name": "python",
   "nbconvert_exporter": "python",
   "pygments_lexer": "ipython3",
   "version": "3.8.5"
  },
  "orig_nbformat": 4
 },
 "nbformat": 4,
 "nbformat_minor": 2
}
